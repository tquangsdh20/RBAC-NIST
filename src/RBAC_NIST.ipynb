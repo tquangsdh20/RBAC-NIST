{
 "cells": [
  {
   "cell_type": "markdown",
   "id": "8eae472d-733a-415f-b602-7137360752e2",
   "metadata": {},
   "source": [
    "<center><img src=\"https://raw.githubusercontent.com/tquangsdh20/RBAC-NIST/main/.github/rbac_logo.svg\"></center>\n",
    "<center><img src=\"https://img.shields.io/github/license/tquangsdh20/rbac-nist?style=plastic\"> <img src=\"https://img.shields.io/badge/author-Tran%20Quang%20%7C%20Nguyen%20Dinh%20Hoang%20Quy%20%7C%20Than%20Hai%20Nhat%20Minh-blue?style=plastic\"> <a href=\"https://hcmuteduvn-my.sharepoint.com/:p:/g/personal/tquang_sdh20_hcmut_edu_vn/EZmcIMj8739LrdtF9CRbHwoBQ3NGoQUoaDMCjeEF6iZ_iA?e=dzX99T\"><img src=\"https://img.shields.io/badge/PowerPoint-RBAC-red?style=plastic&logo=microsoftpowerpoint&logoColor=orange\"> <img src=\"https://img.shields.io/badge/Python-3.7%7C3.8%7C3.9-blue?style=plastic&logo=python\"></a></center>"
   ]
  },
  {
   "cell_type": "markdown",
   "id": "96153b1b-2810-41b2-ba70-477c68bd6135",
   "metadata": {},
   "source": [
    "## Description\n",
    "\n",
    "- **About**: Demo for the RBAC following NIST Model - Database Security Course Work \n",
    "- **School**: HCM City University of Technology \n",
    "- **Lucturer** : [Dang Tran Khanh](http://www.cse.hcmut.edu.vn/~khanh/)\n",
    "\n",
    "## Introduction to RBAC\n",
    "\n",
    "#### RBAC stand for *Role Based Access Control* model which satisfied the following conditions:\n",
    "- Access is determined by roles\n",
    "- A user’s roles are assigned by security administrators\n",
    "- A role’s permissions are assigned by security administrators\n",
    "\n",
    "#### For instance:\n",
    "\n",
    "<img src=\"https://raw.githubusercontent.com/tquangsdh20/RBAC-NIST/main/.github/rbac_example.svg\">\n",
    "\n",
    "## RBAC Models\n",
    "\n",
    "#### There are 4 levels of RBAC Model as the followings:\n",
    "\n",
    "- **RBAC0**: *contains the minimum functionality for an RBAC system*\n",
    "- **RBAC1**: *includes the RBAC0 functionality and adds role hierarchies, which enable one role to inherit permissions from another role*\n",
    "- **RBAC2**: *includes RBAC0 and adds constraints, which restrict the ways in which the components of a RBAC system may be configured*\n",
    "- **RBAC3**: *contains the functionality of RBAC0, RBAC1, and RBAC2*\n",
    "\n",
    "## The NIST Model for RBAC\n",
    "\n",
    "### What is the NIST?\n",
    "\n",
    "<a href=\"https://vi.wikipedia.org/wiki/Vi%E1%BB%87n_Ti%C3%AAu_chu%E1%BA%A9n_v%C3%A0_K%E1%BB%B9_thu%E1%BA%ADt_qu%E1%BB%91c_gia_(Hoa_K%E1%BB%B3)\"><p align=\"center\"><img src=\"https://raw.githubusercontent.com/tquangsdh20/RBAC-NIST/main/.github/nist.svg\"></p></a>\n",
    "\n",
    "### The RBAC following NIST Model\n",
    "\n",
    "<a href=\"https://vi.wikipedia.org/wiki/Vi%E1%BB%87n_Ti%C3%AAu_chu%E1%BA%A9n_v%C3%A0_K%E1%BB%B9_thu%E1%BA%ADt_qu%E1%BB%91c_gia_(Hoa_K%E1%BB%B3)\"><p align=\"center\"><img src=\"https://raw.githubusercontent.com/tquangsdh20/RBAC-NIST/main/.github/rbac-nist.svg\"></p></a>\n",
    "\n",
    "**Please refer the PowerPoint file for more details about RBAC on the top**"
   ]
  },
  {
   "cell_type": "markdown",
   "id": "6ba9b3db-ab50-471c-b9b5-960e0a84d3ee",
   "metadata": {},
   "source": [
    "## Implementation\n",
    "\n",
    "### Generate the policy file for the RBAC Model"
   ]
  },
  {
   "cell_type": "code",
   "execution_count": null,
   "id": "69366fe8-de95-43b5-a661-5f8c1b94b5dc",
   "metadata": {},
   "outputs": [],
   "source": [
    "from dbms import *\n",
    "import json\n",
    "db = DB('./model/Database_RBAC.db')\n",
    "db.init_database()\n",
    "db.policy_update()"
   ]
  },
  {
   "cell_type": "markdown",
   "id": "95610c50-9d09-4bee-9e43-1321723f7167",
   "metadata": {},
   "source": [
    "### All default users - No users have permission"
   ]
  },
  {
   "cell_type": "code",
   "execution_count": null,
   "id": "9ba79777-73b4-4209-b9f2-321c5c2e7401",
   "metadata": {},
   "outputs": [],
   "source": [
    "db.get_users()\n",
    "db.reset_roles_for_user('one.sdh20')"
   ]
  },
  {
   "cell_type": "markdown",
   "id": "c36a4676-21f1-479b-a6fc-f4d5600e8244",
   "metadata": {},
   "source": [
    "### User Assignment"
   ]
  },
  {
   "cell_type": "code",
   "execution_count": null,
   "id": "ec9b2590-ac2e-4be3-90cf-c16b503d3061",
   "metadata": {},
   "outputs": [],
   "source": [
    "# Test case 0 - Assign a new role\n",
    "db.UA('one.sdh20','MATH','STUDENT')\n",
    "# Test case 1 - Assign one more ROLE from other SESSION\n",
    "# db.UA('one.sdh20','IT','LECTURER')\n",
    "\n",
    "# Test case 2 - Assign the same session with comflict ROLE\n",
    "# try: \n",
    "#     db.UA('one.sdh20','IT','STUDENT')\n",
    "# except InValidValue as e:\n",
    "#     print(e)"
   ]
  },
  {
   "cell_type": "code",
   "execution_count": null,
   "id": "2a8cb9bf-3715-4b5e-9cb6-accd1dd46555",
   "metadata": {},
   "outputs": [],
   "source": [
    "db.check_roles('one.sdh20')\n",
    "db.policy_update()"
   ]
  },
  {
   "cell_type": "markdown",
   "id": "b4002f50-34b9-4003-8d50-21528e9516cf",
   "metadata": {},
   "source": [
    "### Connect to RBAC model"
   ]
  },
  {
   "cell_type": "code",
   "execution_count": null,
   "id": "92a5fb9d-a32d-4f4d-a50c-336747f8a263",
   "metadata": {},
   "outputs": [],
   "source": [
    "db.policy_update()\n",
    "model = OpenModel(RBAC_NIST)\n",
    "model.init()"
   ]
  },
  {
   "cell_type": "code",
   "execution_count": null,
   "id": "1b9c685c-154c-4241-8e7c-a8e3beb13f82",
   "metadata": {},
   "outputs": [],
   "source": [
    "model.login('one.sdh20','password',db)"
   ]
  },
  {
   "cell_type": "markdown",
   "id": "859e48dd-fc4e-4915-93d4-1cb00b78a12c",
   "metadata": {},
   "source": [
    "### Valid Operations"
   ]
  },
  {
   "cell_type": "code",
   "execution_count": null,
   "id": "e18efc62-5688-4df9-bf6a-31ff031107bd",
   "metadata": {},
   "outputs": [],
   "source": [
    "model.request('MATH','math.db','VIEW NAME')"
   ]
  },
  {
   "cell_type": "code",
   "execution_count": null,
   "id": "8d8bb45d-4e06-445c-a965-7d79c50f8a5c",
   "metadata": {},
   "outputs": [],
   "source": [
    "model.request('IT','it.db','VIEW NAME')"
   ]
  },
  {
   "cell_type": "code",
   "execution_count": null,
   "id": "c7dbdc74-2378-4476-8bba-df4e041b3e5b",
   "metadata": {},
   "outputs": [],
   "source": [
    "model.request('IT','it.db','VIEW GRADE')"
   ]
  },
  {
   "cell_type": "code",
   "execution_count": null,
   "id": "fef3647c-696a-4e86-8d46-2d34c45041b9",
   "metadata": {},
   "outputs": [],
   "source": [
    "model.request('IT','it.db','EDIT GRADE')"
   ]
  },
  {
   "cell_type": "code",
   "execution_count": null,
   "id": "c61a00ef-ef03-43a4-9495-47700c8a1035",
   "metadata": {},
   "outputs": [],
   "source": [
    "model.login('admin','password',db)"
   ]
  },
  {
   "cell_type": "code",
   "execution_count": null,
   "id": "85b1f115-8151-4965-8b59-15718ffda92d",
   "metadata": {},
   "outputs": [],
   "source": [
    "model.request('IT','it.db','EDIT INFO')"
   ]
  },
  {
   "cell_type": "markdown",
   "id": "0646f69a-a5b4-4117-910a-e623adcf55a7",
   "metadata": {},
   "source": [
    "### No permission"
   ]
  },
  {
   "cell_type": "code",
   "execution_count": null,
   "id": "b89661dd-9fb5-497a-a3d3-5dd82754c372",
   "metadata": {},
   "outputs": [],
   "source": [
    "model.login('one.sdh20','password',db)"
   ]
  },
  {
   "cell_type": "code",
   "execution_count": null,
   "id": "0878c12d-bb73-4bca-b29f-c1c78016d223",
   "metadata": {},
   "outputs": [],
   "source": [
    "model.request('MATH','math.db','VIEW GRADE')"
   ]
  },
  {
   "cell_type": "code",
   "execution_count": null,
   "id": "4f7d6dba-a5b7-4c6f-88a9-b2d4e9cc807b",
   "metadata": {},
   "outputs": [],
   "source": [
    "model.request('MATH','math.db','EDIT GRADE')"
   ]
  },
  {
   "cell_type": "code",
   "execution_count": null,
   "id": "52a4b01c-46c4-4242-86be-d1f46f18e2af",
   "metadata": {},
   "outputs": [],
   "source": [
    "model.request('CHEMISTRY','chemistry.db','VIEW NAME')"
   ]
  },
  {
   "cell_type": "code",
   "execution_count": null,
   "id": "8429f2b4-de3f-499c-91c5-f12c0c8ce4ec",
   "metadata": {},
   "outputs": [],
   "source": [
    "quit()"
   ]
  },
  {
   "cell_type": "markdown",
   "id": "1b610eff-c1f5-4f9d-869a-4b09517b12c5",
   "metadata": {},
   "source": [
    "<center><a href=\"https://github.com/tquangsdh20/rbac-nist\"><img src=\"https://img.shields.io/badge/Github-RBAC_NIST-orange?style=social&logo=github\"></a></center>"
   ]
  }
 ],
 "metadata": {
  "kernelspec": {
   "display_name": "Python 3 (ipykernel)",
   "language": "python",
   "name": "python3"
  },
  "language_info": {
   "codemirror_mode": {
    "name": "ipython",
    "version": 3
   },
   "file_extension": ".py",
   "mimetype": "text/x-python",
   "name": "python",
   "nbconvert_exporter": "python",
   "pygments_lexer": "ipython3",
   "version": "3.7.2"
  }
 },
 "nbformat": 4,
 "nbformat_minor": 5
}
