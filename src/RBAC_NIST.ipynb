{
 "cells": [
  {
   "cell_type": "markdown",
   "id": "8eae472d-733a-415f-b602-7137360752e2",
   "metadata": {},
   "source": [
    "<center><img src=\"https://raw.githubusercontent.com/tquangsdh20/RBAC-NIST/main/.github/rbac_logo.svg\"></center>\n",
    "<center><img src=\"https://img.shields.io/github/license/tquangsdh20/rbac-nist?style=plastic\"> <img src=\"https://img.shields.io/badge/author-Tran%20Quang%20%7C%20Nguyen%20Dinh%20Hoang%20Quy%20%7C%20Than%20Hai%20Nhat%20Minh-blue?style=plastic\"> <a href=\"https://hcmuteduvn-my.sharepoint.com/:p:/g/personal/tquang_sdh20_hcmut_edu_vn/EZmcIMj8739LrdtF9CRbHwoBQ3NGoQUoaDMCjeEF6iZ_iA?e=dzX99T\"><img src=\"https://img.shields.io/badge/PowerPoint-RBAC-red?style=plastic&logo=microsoftpowerpoint&logoColor=orange\"> <img src=\"https://img.shields.io/badge/Python-3.7%7C3.8%7C3.9-blue?style=plastic&logo=python\"></a></center>"
   ]
  },
  {
   "cell_type": "markdown",
   "id": "96153b1b-2810-41b2-ba70-477c68bd6135",
   "metadata": {},
   "source": [
    "## Description\n",
    "\n",
    "- **About**: Demo for the RBAC following NIST Model - Database Security Course Work \n",
    "- **School**: HCM City University of Technology \n",
    "- **Lucturer** : [Dang Tran Khanh](http://www.cse.hcmut.edu.vn/~khanh/)\n",
    "\n",
    "## Introduction to RBAC\n",
    "\n",
    "#### RBAC stand for *Role Based Access Control* model which satisfied the following conditions:\n",
    "- Access is determined by roles\n",
    "- A user’s roles are assigned by security administrators\n",
    "- A role’s permissions are assigned by security administrators\n",
    "\n",
    "#### For instance:\n",
    "\n",
    "<img src=\"https://raw.githubusercontent.com/tquangsdh20/RBAC-NIST/main/.github/rbac_example.svg\">\n",
    "\n",
    "## RBAC Models\n",
    "\n",
    "#### There are 4 levels of RBAC Model as the followings:\n",
    "\n",
    "- **RBAC0**: *contains the minimum functionality for an RBAC system*\n",
    "- **RBAC1**: *includes the RBAC0 functionality and adds role hierarchies, which enable one role to inherit permissions from another role*\n",
    "- **RBAC2**: *includes RBAC0 and adds constraints, which restrict the ways in which the components of a RBAC system may be configured*\n",
    "- **RBAC3**: *contains the functionality of RBAC0, RBAC1, and RBAC2*\n",
    "\n",
    "## The NIST Model for RBAC\n",
    "\n",
    "### What is the NIST?\n",
    "\n",
    "<a href=\"https://vi.wikipedia.org/wiki/Vi%E1%BB%87n_Ti%C3%AAu_chu%E1%BA%A9n_v%C3%A0_K%E1%BB%B9_thu%E1%BA%ADt_qu%E1%BB%91c_gia_(Hoa_K%E1%BB%B3)\"><p align=\"center\"><img src=\"https://raw.githubusercontent.com/tquangsdh20/RBAC-NIST/main/.github/nist.svg\"></p></a>\n",
    "\n",
    "### The RBAC following NIST Model\n",
    "\n",
    "<a href=\"https://vi.wikipedia.org/wiki/Vi%E1%BB%87n_Ti%C3%AAu_chu%E1%BA%A9n_v%C3%A0_K%E1%BB%B9_thu%E1%BA%ADt_qu%E1%BB%91c_gia_(Hoa_K%E1%BB%B3)\"><p align=\"center\"><img src=\"https://raw.githubusercontent.com/tquangsdh20/RBAC-NIST/main/.github/rbac-nist.svg\"></p></a>\n",
    "\n",
    "**Please refer this file [![PowerPoint](https://img.shields.io/badge/PowerPoint-RBAC-red?style=plastic&logo=microsoftpowerpoint&logoColor=orange)](https://hcmuteduvn-my.sharepoint.com/:p:/g/personal/tquang_sdh20_hcmut_edu_vn/EZmcIMj8739LrdtF9CRbHwoBQ3NGoQUoaDMCjeEF6iZ_iA?e=dzX99T) for more details about RBAC**\n",
    "\n",
    "<center><a href=\"https://github.com/tquangsdh20/rbac-nist\"><img src=\"https://img.shields.io/badge/Github-RBAC_NIST-orange?style=social&logo=github\"></a></center>"
   ]
  },
  {
   "cell_type": "markdown",
   "id": "6ba9b3db-ab50-471c-b9b5-960e0a84d3ee",
   "metadata": {},
   "source": [
    "## Implementation\n",
    "\n",
    "### Generate the policy file for the RBAC Model"
   ]
  },
  {
   "cell_type": "code",
   "execution_count": 8,
   "id": "69366fe8-de95-43b5-a661-5f8c1b94b5dc",
   "metadata": {},
   "outputs": [],
   "source": [
    "import sqlite3\n",
    "import json\n",
    "from const import * \n",
    "\n",
    "def validation(cursor,query,role,exception):\n",
    "    cursor.execute(query)\n",
    "    validList = cursor.fetchall()\n",
    "    if (role,) not in validList: raise exception\n",
    "\n",
    "class DB:\n",
    "    def __init__(self,filename):\n",
    "        self.conn = sqlite3.Connection(filename)\n",
    "        self.cur = self.conn.cursor()\n",
    "        \n",
    "    def init_database(self):\n",
    "        self.cur.executescript(INIT_DATABASE)\n",
    "        self.conn.commit()\n",
    "    \n",
    "    def insert_user(self,record):\n",
    "        self.cur.execute(INSERT_USER)\n",
    "        \n",
    "    def reset_roles_for_user(self,user):\n",
    "        __reset_role__ = \"UPDATE users SET role_in_session = '{}' WHERE username=? ;\"\n",
    "        self.cur.execute(__reset_role__,(user,))\n",
    "        \n",
    "    def UA(self,user,session,role):\n",
    "        __GET_USER = \"SELECT role_in_session FROM users WHERE username = ? ;\"\n",
    "        __UPDATE_ROLE = \"UPDATE users SET role_in_session = ? WHERE username = ?;\"\n",
    "        \n",
    "        #Validate Users in RBAC Model\n",
    "        __VALIDATE_USER__ = \"SELECT username FROM users;\"\n",
    "        validation(self.cur,\n",
    "                   __VALIDATE_USER__,\n",
    "                   user,\n",
    "                   InValidValue(f\"Username '{user}' does not exist in database\")\n",
    "                  )\n",
    "        \n",
    "        #Validation Roles in RBAC Model\n",
    "        __VALIDATE_ROLE__ = \"SELECT name FROM roles;\"\n",
    "        validation(self.cur,\n",
    "                   __VALIDATE_ROLE__,\n",
    "                   role,\n",
    "                   InValidValue(f\"Role '{role}' does not exist in database\")\n",
    "                  )\n",
    "        \n",
    "        #Validation Sessions in RBAC Model\n",
    "        __VALIDATE_SESSION__ = \"SELECT name FROM sessions;\"\n",
    "        validation(self.cur,\n",
    "                   __VALIDATE_SESSION__,\n",
    "                   session,\n",
    "                   InValidValue(f\"Session '{session}' does not exist in database\")\n",
    "                  )\n",
    "        # Role Assignment for User \n",
    "        self.cur.execute(__GET_USER,(user,))\n",
    "        prev_session = json.loads(self.cur.fetchone()[0])\n",
    "        prev_session[session] = role\n",
    "        new_session = json.dumps(prev_session)\n",
    "        self.cur.execute(__UPDATE_ROLE,(new_session,user))\n",
    "        \n",
    "    def insert_role(self,record):\n",
    "        self.cur.execute(INSERT_ROLE)\n",
    "        \n",
    "    def get_users(self):\n",
    "        self.cur.execute(GET_USERS)\n",
    "        return self.cur.fetchall()\n",
    "    \n",
    "    def sign_in(self,username,password):\n",
    "        self.cur.execute(GET_USER,(username,password))\n",
    "        return self.cur.fetchone()\n",
    "    \n",
    "    def policy_update(self):\n",
    "        # Get all permisions\n",
    "        self.cur.execute(GET_PRMS)\n",
    "        prms = self.cur.fetchall()\n",
    "        \n",
    "        # Get all users' roles\n",
    "        self.cur.execute(GET_USERS)\n",
    "        users = self.cur.fetchall()\n",
    "        \n",
    "        # Write content with formats\n",
    "        PRM = 'p, {role}, {session}, {obj}, {action}\\n'\n",
    "        GRT = 'g, {user}, {role}, {session}\\n'\n",
    "        \n",
    "        # Write down all Permisions and all Users' Assignment\n",
    "        with open('./model/rbac_policy.csv','w') as fp:\n",
    "            for prm in prms:\n",
    "                fp.write(PRM.format(role=prm[0],session=prm[1],obj=prm[2],action=prm[3]))\n",
    "            for user in users:\n",
    "                username,role_str = user\n",
    "                roles = json.loads(role_str)\n",
    "                for session,role in roles.items():\n",
    "                    fp.write(GRT.format(user=username,role=role,session=session))\n",
    "            fp.close()\n",
    "            \n",
    "    def commit(self):\n",
    "        self.conn.commit()\n",
    "        \n",
    "    def close(self):\n",
    "        self.conn.commit()\n",
    "        self.cur.close()\n",
    "        self.conn.close()\n",
    "        \n",
    "db = DB('./model/Database_RBAC.db')\n",
    "db.init_database()\n",
    "db.policy_update()"
   ]
  },
  {
   "cell_type": "markdown",
   "id": "95610c50-9d09-4bee-9e43-1321723f7167",
   "metadata": {},
   "source": []
  },
  {
   "cell_type": "code",
   "execution_count": 9,
   "id": "9ba79777-73b4-4209-b9f2-321c5c2e7401",
   "metadata": {},
   "outputs": [],
   "source": [
    "quit()"
   ]
  },
  {
   "cell_type": "code",
   "execution_count": 4,
   "id": "92996863-566a-4c81-8f6f-90bfcfc61118",
   "metadata": {},
   "outputs": [
    {
     "name": "stdout",
     "output_type": "stream",
     "text": [
      "{'MATH': 'STUDENT'}\n"
     ]
    }
   ],
   "source": [
    "db.UA('one.sdh20','MATH','STUDENT')\n",
    "res = db.sign_in('one.sdh20','password')\n",
    "if res is None:\n",
    "    print('Error: Password or User is incorrect.')\n",
    "else:\n",
    "    user,name,role_str = res\n",
    "    roles = json.loads(role_str)\n",
    "print(roles)"
   ]
  },
  {
   "cell_type": "code",
   "execution_count": 1,
   "id": "2a8cb9bf-3715-4b5e-9cb6-accd1dd46555",
   "metadata": {},
   "outputs": [
    {
     "ename": "NameError",
     "evalue": "name 'db' is not defined",
     "output_type": "error",
     "traceback": [
      "\u001b[1;31m---------------------------------------------------------------------------\u001b[0m",
      "\u001b[1;31mNameError\u001b[0m                                 Traceback (most recent call last)",
      "\u001b[1;32m~\\AppData\\Local\\Temp/ipykernel_9108/3625817402.py\u001b[0m in \u001b[0;36m<module>\u001b[1;34m\u001b[0m\n\u001b[1;32m----> 1\u001b[1;33m \u001b[0mdb\u001b[0m\u001b[1;33m.\u001b[0m\u001b[0mreset_roles_for_user\u001b[0m\u001b[1;33m(\u001b[0m\u001b[1;34m'one.sdh20'\u001b[0m\u001b[1;33m)\u001b[0m\u001b[1;33m\u001b[0m\u001b[1;33m\u001b[0m\u001b[0m\n\u001b[0m\u001b[0;32m      2\u001b[0m \u001b[0mres\u001b[0m \u001b[1;33m=\u001b[0m \u001b[0mdb\u001b[0m\u001b[1;33m.\u001b[0m\u001b[0msign_in\u001b[0m\u001b[1;33m(\u001b[0m\u001b[1;34m'one.sdh20'\u001b[0m\u001b[1;33m,\u001b[0m\u001b[1;34m'one'\u001b[0m\u001b[1;33m)\u001b[0m\u001b[1;33m\u001b[0m\u001b[1;33m\u001b[0m\u001b[0m\n\u001b[0;32m      3\u001b[0m \u001b[1;32mif\u001b[0m \u001b[0mres\u001b[0m \u001b[1;32mis\u001b[0m \u001b[1;32mNone\u001b[0m\u001b[1;33m:\u001b[0m\u001b[1;33m\u001b[0m\u001b[1;33m\u001b[0m\u001b[0m\n\u001b[0;32m      4\u001b[0m     \u001b[0mprint\u001b[0m\u001b[1;33m(\u001b[0m\u001b[1;34m'Error: Password or User is incorrect.'\u001b[0m\u001b[1;33m)\u001b[0m\u001b[1;33m\u001b[0m\u001b[1;33m\u001b[0m\u001b[0m\n\u001b[0;32m      5\u001b[0m \u001b[1;32melse\u001b[0m\u001b[1;33m:\u001b[0m\u001b[1;33m\u001b[0m\u001b[1;33m\u001b[0m\u001b[0m\n",
      "\u001b[1;31mNameError\u001b[0m: name 'db' is not defined"
     ]
    }
   ],
   "source": [
    "db.reset_roles_for_user('one.sdh20')\n",
    "res = db.sign_in('one.sdh20','one')\n",
    "if res is None:\n",
    "    print('Error: Password or User is incorrect.')\n",
    "else:\n",
    "    user,name,role_str = res\n",
    "    roles = json.loads(role_str)\n",
    "print(roles)"
   ]
  },
  {
   "cell_type": "code",
   "execution_count": 3,
   "id": "86c25e70-9a2d-4f07-a584-8bdc34f31621",
   "metadata": {},
   "outputs": [],
   "source": [
    "db.close()"
   ]
  },
  {
   "cell_type": "markdown",
   "id": "859e48dd-fc4e-4915-93d4-1cb00b78a12c",
   "metadata": {},
   "source": [
    "### Funtions for access"
   ]
  },
  {
   "cell_type": "code",
   "execution_count": 30,
   "id": "e18efc62-5688-4df9-bf6a-31ff031107bd",
   "metadata": {},
   "outputs": [],
   "source": [
    "def retricted(obj):\n",
    "    print(f'You have no permissions for the {obj}')\n",
    "    return \n",
    "\n",
    "def get_name(obj):\n",
    "    print(f'You can get info for the {obj}')\n",
    "    return\n",
    "\n",
    "def get_grade(obj):\n",
    "    print(f'You can get the grades from {obj}')\n",
    "    return \n",
    "\n",
    "def write_grade(obj):\n",
    "    print(f'You can write the grades into {obj}')\n",
    "    return\n",
    "\n",
    "def edit_grade(obj):\n",
    "    print(f'You can edit the grades of the {obj}')\n",
    "    return \n",
    "\n",
    "def edit_info(obj):\n",
    "    print(f'You can edit information of the records inside {obj}')\n",
    "    return \n",
    "    \n",
    "actions =  {\n",
    "    \"VIEW NAME\":   get_name,\n",
    "    \"VIEW GRADE\": get_grade,\n",
    "    \"WRITE GRADE\": write_grade,\n",
    "    \"EDIT GRADE\": edit_grade,\n",
    "    \"EDIT INFO\":  edit_info,\n",
    "    }\n",
    "\n",
    "objects =  {\n",
    "    \"MATH\" : \"math.db\",\n",
    "    \"IT\" : \"it.db\",\n",
    "    \"CHEMISTRY\" :\"chemistry.db\",\n",
    "    }"
   ]
  },
  {
   "cell_type": "code",
   "execution_count": null,
   "id": "c8597864-8762-4872-86fa-f7a631ddf3e1",
   "metadata": {},
   "outputs": [],
   "source": []
  }
 ],
 "metadata": {
  "kernelspec": {
   "display_name": "Python 3 (ipykernel)",
   "language": "python",
   "name": "python3"
  },
  "language_info": {
   "codemirror_mode": {
    "name": "ipython",
    "version": 3
   },
   "file_extension": ".py",
   "mimetype": "text/x-python",
   "name": "python",
   "nbconvert_exporter": "python",
   "pygments_lexer": "ipython3",
   "version": "3.7.2"
  }
 },
 "nbformat": 4,
 "nbformat_minor": 5
}
